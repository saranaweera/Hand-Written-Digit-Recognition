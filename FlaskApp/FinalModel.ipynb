{
 "cells": [
  {
   "cell_type": "code",
   "execution_count": 2,
   "metadata": {
    "collapsed": false
   },
   "outputs": [],
   "source": [
    "from sklearn.svm import SVC\n",
    "from sklearn.decomposition import PCA\n",
    "from sklearn.externals import joblib\n",
    "from scipy.misc import imread, imresize\n",
    "import numpy as np"
   ]
  },
  {
   "cell_type": "code",
   "execution_count": 37,
   "metadata": {
    "collapsed": false
   },
   "outputs": [
    {
     "data": {
      "text/plain": [
       "[8.0]"
      ]
     },
     "execution_count": 37,
     "metadata": {},
     "output_type": "execute_result"
    }
   ],
   "source": [
    "clf = joblib.load('model.pkl') \n",
    "\n",
    "img = imread('digitRecognizer_app/output.png', mode='L')\n",
    "invertedImg = np.invert(img)\n",
    "\n",
    "resizedImg = imresize(invertedImg,(28,28))\n",
    "\n",
    "#increase contrast\n",
    "resizedImg[resizedImg>(255*.3)] = 255\n",
    "\n",
    "list(clf.predict(resizedImg.reshape(1,-1)))"
   ]
  },
  {
   "cell_type": "code",
   "execution_count": 17,
   "metadata": {
    "collapsed": true
   },
   "outputs": [],
   "source": [
    "import io\n",
    "\n",
    "io.StringIO()"
   ]
  },
  {
   "cell_type": "code",
   "execution_count": 20,
   "metadata": {
    "collapsed": false
   },
   "outputs": [
    {
     "data": {
      "text/plain": [
       "array([[0, 0, 0, ..., 0, 0, 0],\n",
       "       [0, 0, 0, ..., 0, 0, 0],\n",
       "       [0, 0, 0, ..., 0, 0, 0],\n",
       "       ..., \n",
       "       [0, 0, 0, ..., 0, 0, 0],\n",
       "       [0, 0, 0, ..., 0, 0, 0],\n",
       "       [0, 0, 0, ..., 0, 0, 0]], dtype=uint8)"
      ]
     },
     "execution_count": 20,
     "metadata": {},
     "output_type": "execute_result"
    }
   ],
   "source": [
    "img"
   ]
  },
  {
   "cell_type": "code",
   "execution_count": 19,
   "metadata": {
    "collapsed": false
   },
   "outputs": [
    {
     "ename": "NameError",
     "evalue": "name 'resizedImg' is not defined",
     "output_type": "error",
     "traceback": [
      "\u001b[0;31m---------------------------------------------------------------------------\u001b[0m",
      "\u001b[0;31mNameError\u001b[0m                                 Traceback (most recent call last)",
      "\u001b[0;32m<ipython-input-19-f6db16266ac2>\u001b[0m in \u001b[0;36m<module>\u001b[0;34m()\u001b[0m\n\u001b[1;32m      1\u001b[0m \u001b[0;32mimport\u001b[0m \u001b[0mcv2\u001b[0m\u001b[0;34m\u001b[0m\u001b[0m\n\u001b[1;32m      2\u001b[0m \u001b[0;34m\u001b[0m\u001b[0m\n\u001b[0;32m----> 3\u001b[0;31m \u001b[0mret\u001b[0m\u001b[0;34m,\u001b[0m \u001b[0mthresh\u001b[0m \u001b[0;34m=\u001b[0m \u001b[0mcv2\u001b[0m\u001b[0;34m.\u001b[0m\u001b[0mthreshold\u001b[0m\u001b[0;34m(\u001b[0m\u001b[0mresizedImg\u001b[0m\u001b[0;34m,\u001b[0m \u001b[0;36m200\u001b[0m\u001b[0;34m,\u001b[0m \u001b[0;36m255\u001b[0m\u001b[0;34m,\u001b[0m \u001b[0;36m0\u001b[0m\u001b[0;34m)\u001b[0m\u001b[0;34m\u001b[0m\u001b[0m\n\u001b[0m\u001b[1;32m      4\u001b[0m \u001b[0mim2\u001b[0m\u001b[0;34m,\u001b[0m \u001b[0mcontours\u001b[0m\u001b[0;34m,\u001b[0m \u001b[0mhierarchy\u001b[0m \u001b[0;34m=\u001b[0m \u001b[0mcv2\u001b[0m\u001b[0;34m.\u001b[0m\u001b[0mfindContours\u001b[0m\u001b[0;34m(\u001b[0m\u001b[0mthresh\u001b[0m\u001b[0;34m,\u001b[0m \u001b[0mcv2\u001b[0m\u001b[0;34m.\u001b[0m\u001b[0mRETR_TREE\u001b[0m\u001b[0;34m,\u001b[0m \u001b[0mcv2\u001b[0m\u001b[0;34m.\u001b[0m\u001b[0mCHAIN_APPROX_SIMPLE\u001b[0m\u001b[0;34m)\u001b[0m\u001b[0;34m\u001b[0m\u001b[0m\n",
      "\u001b[0;31mNameError\u001b[0m: name 'resizedImg' is not defined"
     ]
    }
   ],
   "source": [
    "import cv2\n",
    "\n",
    "ret, thresh = cv2.threshold(resizedImg, 200, 255, 0)\n",
    "im2, contours, hierarchy = cv2.findContours(thresh, cv2.RETR_TREE, cv2.CHAIN_APPROX_SIMPLE)"
   ]
  },
  {
   "cell_type": "code",
   "execution_count": 5,
   "metadata": {
    "collapsed": false
   },
   "outputs": [],
   "source": [
    "import matplotlib.pyplot as plt\n",
    "%matplotlib inline\n",
    "\n"
   ]
  },
  {
   "cell_type": "code",
   "execution_count": 276,
   "metadata": {
    "collapsed": false
   },
   "outputs": [],
   "source": [
    "img = imread('digitRecognizer_app_copy/output3.png', mode='L')\n"
   ]
  },
  {
   "cell_type": "code",
   "execution_count": 224,
   "metadata": {
    "collapsed": false
   },
   "outputs": [
    {
     "ename": "error",
     "evalue": "/Users/travis/miniconda3/conda-bld/opencv_1492076215451/work/opencv-3.2.0/modules/imgproc/src/color.cpp:9748: error: (-215) scn == 3 || scn == 4 in function cvtColor\n",
     "output_type": "error",
     "traceback": [
      "\u001b[0;31m---------------------------------------------------------------------------\u001b[0m",
      "\u001b[0;31merror\u001b[0m                                     Traceback (most recent call last)",
      "\u001b[0;32m<ipython-input-224-d45e92f5470a>\u001b[0m in \u001b[0;36m<module>\u001b[0;34m()\u001b[0m\n\u001b[0;32m----> 1\u001b[0;31m \u001b[0mimg\u001b[0m \u001b[0;34m=\u001b[0m \u001b[0mcv2\u001b[0m\u001b[0;34m.\u001b[0m\u001b[0mcvtColor\u001b[0m\u001b[0;34m(\u001b[0m \u001b[0mimg\u001b[0m\u001b[0;34m,\u001b[0m \u001b[0mcv2\u001b[0m\u001b[0;34m.\u001b[0m\u001b[0mCOLOR_RGB2GRAY\u001b[0m \u001b[0;34m)\u001b[0m\u001b[0;34m\u001b[0m\u001b[0m\n\u001b[0m",
      "\u001b[0;31merror\u001b[0m: /Users/travis/miniconda3/conda-bld/opencv_1492076215451/work/opencv-3.2.0/modules/imgproc/src/color.cpp:9748: error: (-215) scn == 3 || scn == 4 in function cvtColor\n"
     ]
    }
   ],
   "source": [
    "img = cv2.cvtColor( img, cv2.COLOR_RGB2GRAY )\n"
   ]
  },
  {
   "cell_type": "code",
   "execution_count": 241,
   "metadata": {
    "collapsed": false
   },
   "outputs": [
    {
     "data": {
      "text/plain": [
       "(280, 560, 4)"
      ]
     },
     "execution_count": 241,
     "metadata": {},
     "output_type": "execute_result"
    }
   ],
   "source": [
    "img.shape"
   ]
  },
  {
   "cell_type": "code",
   "execution_count": 277,
   "metadata": {
    "collapsed": false
   },
   "outputs": [
    {
     "data": {
      "text/plain": [
       "<matplotlib.image.AxesImage at 0x11b43a9e8>"
      ]
     },
     "execution_count": 277,
     "metadata": {},
     "output_type": "execute_result"
    },
    {
     "data": {
      "image/png": "[encoded data removed]",
      "text/plain": [
       "<matplotlib.figure.Figure at 0x11b001be0>"
      ]
     },
     "metadata": {},
     "output_type": "display_data"
    }
   ],
   "source": [
    "plt.imshow(np.invert(img), cmap='gray')"
   ]
  },
  {
   "cell_type": "code",
   "execution_count": 27,
   "metadata": {
    "collapsed": false
   },
   "outputs": [],
   "source": [
    "import cv2\n",
    "\n",
    "ret, thresh = cv2.threshold(img, 170, 255, 300)\n",
    "im2, contours, hierarchy = cv2.findContours(thresh, cv2.RETR_TREE, cv2.CHAIN_APPROX_SIMPLE)"
   ]
  },
  {
   "cell_type": "code",
   "execution_count": 20,
   "metadata": {
    "collapsed": false
   },
   "outputs": [
    {
     "ename": "TypeError",
     "evalue": "points is not a numpy array, neither a scalar",
     "output_type": "error",
     "traceback": [
      "\u001b[0;31m---------------------------------------------------------------------------\u001b[0m",
      "\u001b[0;31mTypeError\u001b[0m                                 Traceback (most recent call last)",
      "\u001b[0;32m<ipython-input-20-10f78205d16f>\u001b[0m in \u001b[0;36m<module>\u001b[0;34m()\u001b[0m\n\u001b[0;32m----> 1\u001b[0;31m \u001b[0mx\u001b[0m\u001b[0;34m,\u001b[0m\u001b[0my\u001b[0m\u001b[0;34m,\u001b[0m\u001b[0mw\u001b[0m\u001b[0;34m,\u001b[0m\u001b[0mh\u001b[0m \u001b[0;34m=\u001b[0m \u001b[0mcv2\u001b[0m\u001b[0;34m.\u001b[0m\u001b[0mboundingRect\u001b[0m\u001b[0;34m(\u001b[0m\u001b[0mcontours\u001b[0m\u001b[0;34m)\u001b[0m\u001b[0;34m\u001b[0m\u001b[0m\n\u001b[0m",
      "\u001b[0;31mTypeError\u001b[0m: points is not a numpy array, neither a scalar"
     ]
    }
   ],
   "source": [
    "x,y,w,h = cv2.boundingRect(contours)"
   ]
  },
  {
   "cell_type": "code",
   "execution_count": 28,
   "metadata": {
    "collapsed": false
   },
   "outputs": [
    {
     "data": {
      "text/plain": [
       "[array([[[ 70, 219]],\n",
       " \n",
       "        [[ 72, 219]]], dtype=int32), array([[[ 61, 218]],\n",
       " \n",
       "        [[ 62, 219]]], dtype=int32), array([[[ 79, 216]],\n",
       " \n",
       "        [[ 78, 217]],\n",
       " \n",
       "        [[ 77, 217]],\n",
       " \n",
       "        [[ 76, 218]],\n",
       " \n",
       "        [[ 75, 218]],\n",
       " \n",
       "        [[ 76, 218]],\n",
       " \n",
       "        [[ 77, 217]],\n",
       " \n",
       "        [[ 78, 217]],\n",
       " \n",
       "        [[ 79, 216]],\n",
       " \n",
       "        [[ 80, 216]]], dtype=int32), array([[[ 84, 214]],\n",
       " \n",
       "        [[ 83, 215]],\n",
       " \n",
       "        [[ 82, 215]],\n",
       " \n",
       "        [[ 83, 215]]], dtype=int32), array([[[ 86, 213]]], dtype=int32), array([[[ 88, 212]]], dtype=int32), array([[[ 90, 211]],\n",
       " \n",
       "        [[ 91, 211]]], dtype=int32), array([[[ 93, 210]],\n",
       " \n",
       "        [[ 94, 210]]], dtype=int32), array([[[ 96, 209]],\n",
       " \n",
       "        [[ 97, 209]]], dtype=int32), array([[[101, 207]],\n",
       " \n",
       "        [[100, 208]],\n",
       " \n",
       "        [[ 99, 208]],\n",
       " \n",
       "        [[100, 208]]], dtype=int32), array([[[ 81, 207]]], dtype=int32), array([[[ 65, 207]],\n",
       " \n",
       "        [[ 64, 208]],\n",
       " \n",
       "        [[ 64, 209]],\n",
       " \n",
       "        [[ 61, 212]],\n",
       " \n",
       "        [[ 61, 213]],\n",
       " \n",
       "        [[ 61, 212]],\n",
       " \n",
       "        [[ 64, 209]],\n",
       " \n",
       "        [[ 64, 208]]], dtype=int32), array([[[103, 206]]], dtype=int32), array([[[ 83, 206]]], dtype=int32), array([[[ 86, 204]],\n",
       " \n",
       "        [[ 85, 205]],\n",
       " \n",
       "        [[ 86, 204]],\n",
       " \n",
       "        [[ 87, 204]]], dtype=int32), array([[[ 89, 203]],\n",
       " \n",
       "        [[ 90, 203]]], dtype=int32), array([[[111, 202]],\n",
       " \n",
       "        [[110, 203]],\n",
       " \n",
       "        [[109, 203]],\n",
       " \n",
       "        [[108, 204]],\n",
       " \n",
       "        [[107, 204]],\n",
       " \n",
       "        [[106, 205]],\n",
       " \n",
       "        [[105, 205]],\n",
       " \n",
       "        [[106, 205]],\n",
       " \n",
       "        [[107, 204]],\n",
       " \n",
       "        [[108, 204]],\n",
       " \n",
       "        [[109, 203]],\n",
       " \n",
       "        [[110, 203]],\n",
       " \n",
       "        [[111, 202]],\n",
       " \n",
       "        [[112, 202]]], dtype=int32), array([[[ 92, 202]],\n",
       " \n",
       "        [[ 93, 202]]], dtype=int32), array([[[114, 201]],\n",
       " \n",
       "        [[115, 201]]], dtype=int32), array([[[ 95, 201]],\n",
       " \n",
       "        [[ 96, 201]]], dtype=int32), array([[[117, 200]],\n",
       " \n",
       "        [[118, 200]]], dtype=int32), array([[[ 98, 200]]], dtype=int32), array([[[120, 199]],\n",
       " \n",
       "        [[121, 199]]], dtype=int32), array([[[101, 198]],\n",
       " \n",
       "        [[100, 199]],\n",
       " \n",
       "        [[101, 198]],\n",
       " \n",
       "        [[102, 198]]], dtype=int32), array([[[ 80, 198]],\n",
       " \n",
       "        [[ 79, 199]],\n",
       " \n",
       "        [[ 79, 200]],\n",
       " \n",
       "        [[ 78, 201]],\n",
       " \n",
       "        [[ 78, 202]],\n",
       " \n",
       "        [[ 76, 204]],\n",
       " \n",
       "        [[ 76, 205]],\n",
       " \n",
       "        [[ 73, 208]],\n",
       " \n",
       "        [[ 73, 209]],\n",
       " \n",
       "        [[ 72, 210]],\n",
       " \n",
       "        [[ 72, 211]],\n",
       " \n",
       "        [[ 72, 210]],\n",
       " \n",
       "        [[ 73, 209]],\n",
       " \n",
       "        [[ 74, 210]],\n",
       " \n",
       "        [[ 75, 210]],\n",
       " \n",
       "        [[ 76, 209]],\n",
       " \n",
       "        [[ 77, 209]],\n",
       " \n",
       "        [[ 78, 208]],\n",
       " \n",
       "        [[ 79, 208]],\n",
       " \n",
       "        [[ 78, 208]],\n",
       " \n",
       "        [[ 77, 209]],\n",
       " \n",
       "        [[ 76, 209]],\n",
       " \n",
       "        [[ 75, 210]],\n",
       " \n",
       "        [[ 74, 210]],\n",
       " \n",
       "        [[ 73, 209]],\n",
       " \n",
       "        [[ 73, 208]],\n",
       " \n",
       "        [[ 76, 205]],\n",
       " \n",
       "        [[ 76, 204]],\n",
       " \n",
       "        [[ 78, 202]],\n",
       " \n",
       "        [[ 78, 201]],\n",
       " \n",
       "        [[ 79, 200]],\n",
       " \n",
       "        [[ 79, 199]]], dtype=int32), array([[[125, 197]],\n",
       " \n",
       "        [[124, 198]],\n",
       " \n",
       "        [[123, 198]],\n",
       " \n",
       "        [[124, 198]]], dtype=int32), array([[[104, 197]]], dtype=int32), array([[[127, 196]]], dtype=int32), array([[[ 81, 196]]], dtype=int32), array([[[129, 195]]], dtype=int32), array([[[110, 194]],\n",
       " \n",
       "        [[109, 195]],\n",
       " \n",
       "        [[108, 195]],\n",
       " \n",
       "        [[107, 196]],\n",
       " \n",
       "        [[106, 196]],\n",
       " \n",
       "        [[107, 196]],\n",
       " \n",
       "        [[108, 195]],\n",
       " \n",
       "        [[109, 195]],\n",
       " \n",
       "        [[110, 194]],\n",
       " \n",
       "        [[111, 194]]], dtype=int32), array([[[133, 193]],\n",
       " \n",
       "        [[132, 194]],\n",
       " \n",
       "        [[131, 194]],\n",
       " \n",
       "        [[132, 194]],\n",
       " \n",
       "        [[133, 193]],\n",
       " \n",
       "        [[134, 193]]], dtype=int32), array([[[113, 193]],\n",
       " \n",
       "        [[114, 193]]], dtype=int32), array([[[136, 192]],\n",
       " \n",
       "        [[137, 192]]], dtype=int32), array([[[116, 192]],\n",
       " \n",
       "        [[117, 192]]], dtype=int32), array([[[139, 191]],\n",
       " \n",
       "        [[140, 191]]], dtype=int32), array([[[119, 191]],\n",
       " \n",
       "        [[120, 191]]], dtype=int32), array([[[ 75, 191]],\n",
       " \n",
       "        [[ 74, 192]],\n",
       " \n",
       "        [[ 74, 193]],\n",
       " \n",
       "        [[ 73, 194]],\n",
       " \n",
       "        [[ 73, 195]],\n",
       " \n",
       "        [[ 72, 196]],\n",
       " \n",
       "        [[ 72, 197]],\n",
       " \n",
       "        [[ 70, 199]],\n",
       " \n",
       "        [[ 70, 200]],\n",
       " \n",
       "        [[ 67, 203]],\n",
       " \n",
       "        [[ 67, 204]],\n",
       " \n",
       "        [[ 66, 205]],\n",
       " \n",
       "        [[ 67, 204]],\n",
       " \n",
       "        [[ 67, 203]],\n",
       " \n",
       "        [[ 70, 200]],\n",
       " \n",
       "        [[ 70, 199]],\n",
       " \n",
       "        [[ 72, 197]],\n",
       " \n",
       "        [[ 72, 196]],\n",
       " \n",
       "        [[ 73, 195]],\n",
       " \n",
       "        [[ 73, 194]],\n",
       " \n",
       "        [[ 74, 193]],\n",
       " \n",
       "        [[ 74, 192]]], dtype=int32), array([[[142, 190]],\n",
       " \n",
       "        [[144, 190]]], dtype=int32), array([[[122, 190]]], dtype=int32), array([[[124, 189]]], dtype=int32), array([[[ 85, 189]],\n",
       " \n",
       "        [[ 84, 190]],\n",
       " \n",
       "        [[ 84, 191]],\n",
       " \n",
       "        [[ 83, 192]],\n",
       " \n",
       "        [[ 83, 193]],\n",
       " \n",
       "        [[ 82, 194]],\n",
       " \n",
       "        [[ 83, 193]],\n",
       " \n",
       "        [[ 83, 192]],\n",
       " \n",
       "        [[ 84, 191]],\n",
       " \n",
       "        [[ 84, 190]]], dtype=int32), array([[[ 76, 189]]], dtype=int32), array([[[149, 188]],\n",
       " \n",
       "        [[148, 189]],\n",
       " \n",
       "        [[147, 189]],\n",
       " \n",
       "        [[148, 189]],\n",
       " \n",
       "        [[149, 188]],\n",
       " \n",
       "        [[150, 188]]], dtype=int32), array([[[155, 187]],\n",
       " \n",
       "        [[156, 187]]], dtype=int32), array([[[127, 187]],\n",
       " \n",
       "        [[126, 188]],\n",
       " \n",
       "        [[127, 187]],\n",
       " \n",
       "        [[128, 187]]], dtype=int32), array([[[160, 186]],\n",
       " \n",
       "        [[161, 186]]], dtype=int32), array([[[130, 186]],\n",
       " \n",
       "        [[131, 186]]], dtype=int32), array([[[135, 184]],\n",
       " \n",
       "        [[134, 185]],\n",
       " \n",
       "        [[133, 185]],\n",
       " \n",
       "        [[134, 185]],\n",
       " \n",
       "        [[135, 184]],\n",
       " \n",
       "        [[136, 184]]], dtype=int32), array([[[ 79, 184]],\n",
       " \n",
       "        [[ 78, 185]],\n",
       " \n",
       "        [[ 78, 186]],\n",
       " \n",
       "        [[ 77, 187]],\n",
       " \n",
       "        [[ 78, 186]],\n",
       " \n",
       "        [[ 78, 185]]], dtype=int32), array([[[138, 183]],\n",
       " \n",
       "        [[139, 183]]], dtype=int32), array([[[142, 182]],\n",
       " \n",
       "        [[144, 182]]], dtype=int32), array([[[168, 181]],\n",
       " \n",
       "        [[168, 182]],\n",
       " \n",
       "        [[165, 185]],\n",
       " \n",
       "        [[168, 182]]], dtype=int32), array([[[148, 180]],\n",
       " \n",
       "        [[147, 181]],\n",
       " \n",
       "        [[146, 181]],\n",
       " \n",
       "        [[147, 181]],\n",
       " \n",
       "        [[148, 180]],\n",
       " \n",
       "        [[149, 180]]], dtype=int32), array([[[153, 179]],\n",
       " \n",
       "        [[154, 179]]], dtype=int32), array([[[157, 178]],\n",
       " \n",
       "        [[158, 178]]], dtype=int32), array([[[170, 177]],\n",
       " \n",
       "        [[170, 178]],\n",
       " \n",
       "        [[169, 179]],\n",
       " \n",
       "        [[170, 178]]], dtype=int32), array([[[168, 172]],\n",
       " \n",
       "        [[170, 174]]], dtype=int32), array([[[165, 172]],\n",
       " \n",
       "        [[160, 177]]], dtype=int32), array([[[ 96, 172]],\n",
       " \n",
       "        [[ 95, 173]],\n",
       " \n",
       "        [[ 95, 174]],\n",
       " \n",
       "        [[ 94, 175]],\n",
       " \n",
       "        [[ 94, 176]],\n",
       " \n",
       "        [[ 92, 178]],\n",
       " \n",
       "        [[ 92, 179]],\n",
       " \n",
       "        [[ 89, 182]],\n",
       " \n",
       "        [[ 89, 183]],\n",
       " \n",
       "        [[ 87, 185]],\n",
       " \n",
       "        [[ 87, 186]],\n",
       " \n",
       "        [[ 86, 187]],\n",
       " \n",
       "        [[ 87, 186]],\n",
       " \n",
       "        [[ 87, 185]],\n",
       " \n",
       "        [[ 89, 183]],\n",
       " \n",
       "        [[ 89, 182]],\n",
       " \n",
       "        [[ 92, 179]],\n",
       " \n",
       "        [[ 92, 178]],\n",
       " \n",
       "        [[ 94, 176]],\n",
       " \n",
       "        [[ 94, 175]],\n",
       " \n",
       "        [[ 95, 174]],\n",
       " \n",
       "        [[ 95, 173]]], dtype=int32), array([[[ 97, 170]]], dtype=int32), array([[[ 89, 169]],\n",
       " \n",
       "        [[ 88, 170]],\n",
       " \n",
       "        [[ 88, 171]],\n",
       " \n",
       "        [[ 86, 173]],\n",
       " \n",
       "        [[ 86, 174]],\n",
       " \n",
       "        [[ 83, 177]],\n",
       " \n",
       "        [[ 83, 178]],\n",
       " \n",
       "        [[ 81, 180]],\n",
       " \n",
       "        [[ 81, 181]],\n",
       " \n",
       "        [[ 80, 182]],\n",
       " \n",
       "        [[ 81, 181]],\n",
       " \n",
       "        [[ 81, 180]],\n",
       " \n",
       "        [[ 83, 178]],\n",
       " \n",
       "        [[ 83, 177]],\n",
       " \n",
       "        [[ 86, 174]],\n",
       " \n",
       "        [[ 86, 173]],\n",
       " \n",
       "        [[ 88, 171]],\n",
       " \n",
       "        [[ 88, 170]]], dtype=int32), array([[[ 90, 167]]], dtype=int32), array([[[100, 165]],\n",
       " \n",
       "        [[ 99, 166]],\n",
       " \n",
       "        [[ 99, 167]],\n",
       " \n",
       "        [[ 98, 168]],\n",
       " \n",
       "        [[ 99, 167]],\n",
       " \n",
       "        [[ 99, 166]]], dtype=int32), array([[[101, 163]]], dtype=int32), array([[[ 95, 158]],\n",
       " \n",
       "        [[ 94, 159]],\n",
       " \n",
       "        [[ 94, 160]],\n",
       " \n",
       "        [[ 93, 161]],\n",
       " \n",
       "        [[ 93, 162]],\n",
       " \n",
       "        [[ 92, 163]],\n",
       " \n",
       "        [[ 92, 164]],\n",
       " \n",
       "        [[ 91, 165]],\n",
       " \n",
       "        [[ 92, 164]],\n",
       " \n",
       "        [[ 92, 163]],\n",
       " \n",
       "        [[ 93, 162]],\n",
       " \n",
       "        [[ 93, 161]],\n",
       " \n",
       "        [[ 94, 160]],\n",
       " \n",
       "        [[ 94, 159]]], dtype=int32), array([[[107, 152]],\n",
       " \n",
       "        [[106, 153]],\n",
       " \n",
       "        [[106, 154]],\n",
       " \n",
       "        [[105, 155]],\n",
       " \n",
       "        [[105, 156]],\n",
       " \n",
       "        [[104, 157]],\n",
       " \n",
       "        [[104, 158]],\n",
       " \n",
       "        [[103, 159]],\n",
       " \n",
       "        [[103, 160]],\n",
       " \n",
       "        [[102, 161]],\n",
       " \n",
       "        [[103, 160]],\n",
       " \n",
       "        [[103, 159]],\n",
       " \n",
       "        [[104, 158]],\n",
       " \n",
       "        [[104, 157]],\n",
       " \n",
       "        [[105, 156]],\n",
       " \n",
       "        [[105, 155]],\n",
       " \n",
       "        [[106, 154]],\n",
       " \n",
       "        [[106, 153]]], dtype=int32), array([[[101, 147]],\n",
       " \n",
       "        [[100, 148]],\n",
       " \n",
       "        [[100, 149]],\n",
       " \n",
       "        [[ 99, 150]],\n",
       " \n",
       "        [[ 99, 151]],\n",
       " \n",
       "        [[ 98, 152]],\n",
       " \n",
       "        [[ 98, 153]],\n",
       " \n",
       "        [[ 97, 154]],\n",
       " \n",
       "        [[ 97, 155]],\n",
       " \n",
       "        [[ 96, 156]],\n",
       " \n",
       "        [[ 97, 155]],\n",
       " \n",
       "        [[ 97, 154]],\n",
       " \n",
       "        [[ 98, 153]],\n",
       " \n",
       "        [[ 98, 152]],\n",
       " \n",
       "        [[ 99, 151]],\n",
       " \n",
       "        [[ 99, 150]],\n",
       " \n",
       "        [[100, 149]],\n",
       " \n",
       "        [[100, 148]]], dtype=int32), array([[[111, 145]],\n",
       " \n",
       "        [[110, 146]],\n",
       " \n",
       "        [[110, 147]],\n",
       " \n",
       "        [[109, 148]],\n",
       " \n",
       "        [[109, 149]],\n",
       " \n",
       "        [[108, 150]],\n",
       " \n",
       "        [[109, 149]],\n",
       " \n",
       "        [[109, 148]],\n",
       " \n",
       "        [[110, 147]],\n",
       " \n",
       "        [[110, 146]]], dtype=int32), array([[[102, 145]]], dtype=int32), array([[[113, 142]],\n",
       " \n",
       "        [[112, 143]]], dtype=int32), array([[[104, 142]],\n",
       " \n",
       "        [[103, 143]]], dtype=int32), array([[[115, 139]],\n",
       " \n",
       "        [[114, 140]]], dtype=int32), array([[[106, 139]],\n",
       " \n",
       "        [[105, 140]]], dtype=int32), array([[[117, 136]],\n",
       " \n",
       "        [[116, 137]]], dtype=int32), array([[[118, 134]]], dtype=int32), array([[[112, 129]],\n",
       " \n",
       "        [[111, 130]],\n",
       " \n",
       "        [[111, 131]],\n",
       " \n",
       "        [[110, 132]],\n",
       " \n",
       "        [[110, 133]],\n",
       " \n",
       "        [[108, 135]],\n",
       " \n",
       "        [[108, 136]],\n",
       " \n",
       "        [[107, 137]],\n",
       " \n",
       "        [[108, 136]],\n",
       " \n",
       "        [[108, 135]],\n",
       " \n",
       "        [[110, 133]],\n",
       " \n",
       "        [[110, 132]],\n",
       " \n",
       "        [[111, 131]],\n",
       " \n",
       "        [[111, 130]]], dtype=int32), array([[[123, 125]],\n",
       " \n",
       "        [[122, 126]],\n",
       " \n",
       "        [[122, 127]],\n",
       " \n",
       "        [[121, 128]],\n",
       " \n",
       "        [[121, 129]],\n",
       " \n",
       "        [[120, 130]],\n",
       " \n",
       "        [[120, 131]],\n",
       " \n",
       "        [[119, 132]],\n",
       " \n",
       "        [[120, 131]],\n",
       " \n",
       "        [[120, 130]],\n",
       " \n",
       "        [[121, 129]],\n",
       " \n",
       "        [[121, 128]],\n",
       " \n",
       "        [[122, 127]],\n",
       " \n",
       "        [[122, 126]]], dtype=int32), array([[[125, 121]],\n",
       " \n",
       "        [[125, 122]],\n",
       " \n",
       "        [[124, 123]],\n",
       " \n",
       "        [[125, 122]]], dtype=int32), array([[[117, 120]],\n",
       " \n",
       "        [[116, 121]],\n",
       " \n",
       "        [[116, 122]],\n",
       " \n",
       "        [[115, 123]],\n",
       " \n",
       "        [[115, 124]],\n",
       " \n",
       "        [[114, 125]],\n",
       " \n",
       "        [[114, 126]],\n",
       " \n",
       "        [[113, 127]],\n",
       " \n",
       "        [[114, 126]],\n",
       " \n",
       "        [[114, 125]],\n",
       " \n",
       "        [[115, 124]],\n",
       " \n",
       "        [[115, 123]],\n",
       " \n",
       "        [[116, 122]],\n",
       " \n",
       "        [[116, 121]]], dtype=int32), array([[[118, 118]]], dtype=int32), array([[[128, 116]],\n",
       " \n",
       "        [[127, 117]],\n",
       " \n",
       "        [[127, 118]],\n",
       " \n",
       "        [[126, 119]],\n",
       " \n",
       "        [[127, 118]],\n",
       " \n",
       "        [[127, 117]]], dtype=int32), array([[[121, 113]],\n",
       " \n",
       "        [[120, 114]],\n",
       " \n",
       "        [[120, 115]],\n",
       " \n",
       "        [[119, 116]],\n",
       " \n",
       "        [[120, 115]],\n",
       " \n",
       "        [[120, 114]]], dtype=int32), array([[[131, 111]],\n",
       " \n",
       "        [[130, 112]],\n",
       " \n",
       "        [[130, 113]],\n",
       " \n",
       "        [[129, 114]],\n",
       " \n",
       "        [[130, 113]],\n",
       " \n",
       "        [[130, 112]]], dtype=int32), array([[[132, 109]]], dtype=int32), array([[[124, 108]],\n",
       " \n",
       "        [[123, 109]],\n",
       " \n",
       "        [[123, 110]],\n",
       " \n",
       "        [[122, 111]],\n",
       " \n",
       "        [[123, 110]],\n",
       " \n",
       "        [[123, 109]]], dtype=int32), array([[[127, 101]],\n",
       " \n",
       "        [[127, 102]],\n",
       " \n",
       "        [[126, 103]],\n",
       " \n",
       "        [[126, 104]],\n",
       " \n",
       "        [[125, 105]],\n",
       " \n",
       "        [[125, 106]],\n",
       " \n",
       "        [[125, 105]],\n",
       " \n",
       "        [[126, 104]],\n",
       " \n",
       "        [[126, 103]],\n",
       " \n",
       "        [[127, 102]]], dtype=int32), array([[[128,  99]]], dtype=int32), array([[[138,  97]],\n",
       " \n",
       "        [[137,  98]],\n",
       " \n",
       "        [[137,  99]],\n",
       " \n",
       "        [[136, 100]],\n",
       " \n",
       "        [[136, 101]],\n",
       " \n",
       "        [[135, 102]],\n",
       " \n",
       "        [[135, 103]],\n",
       " \n",
       "        [[134, 104]],\n",
       " \n",
       "        [[134, 105]],\n",
       " \n",
       "        [[133, 106]],\n",
       " \n",
       "        [[133, 107]],\n",
       " \n",
       "        [[133, 106]],\n",
       " \n",
       "        [[134, 105]],\n",
       " \n",
       "        [[134, 104]],\n",
       " \n",
       "        [[135, 103]],\n",
       " \n",
       "        [[135, 102]],\n",
       " \n",
       "        [[136, 101]],\n",
       " \n",
       "        [[136, 100]],\n",
       " \n",
       "        [[137,  99]],\n",
       " \n",
       "        [[137,  98]]], dtype=int32), array([[[129,  97]]], dtype=int32), array([[[131,  94]],\n",
       " \n",
       "        [[130,  95]]], dtype=int32), array([[[141,  92]],\n",
       " \n",
       "        [[141,  93]],\n",
       " \n",
       "        [[139,  95]],\n",
       " \n",
       "        [[141,  93]]], dtype=int32), array([[[142,  87]],\n",
       " \n",
       "        [[142,  89]]], dtype=int32), array([[[134,  87]],\n",
       " \n",
       "        [[134,  89]],\n",
       " \n",
       "        [[133,  90]],\n",
       " \n",
       "        [[133,  91]],\n",
       " \n",
       "        [[132,  92]],\n",
       " \n",
       "        [[133,  91]],\n",
       " \n",
       "        [[133,  90]],\n",
       " \n",
       "        [[134,  89]]], dtype=int32), array([[[134,  72]]], dtype=int32), array([[[141,  69]],\n",
       " \n",
       "        [[142,  70]],\n",
       " \n",
       "        [[142,  71]],\n",
       " \n",
       "        [[142,  70]]], dtype=int32), array([[[131,  69]],\n",
       " \n",
       "        [[132,  69]],\n",
       " \n",
       "        [[133,  70]],\n",
       " \n",
       "        [[132,  69]]], dtype=int32), array([[[107,  69]],\n",
       " \n",
       "        [[105,  71]],\n",
       " \n",
       "        [[104,  71]],\n",
       " \n",
       "        [[105,  71]]], dtype=int32), array([[[ 98,  69]],\n",
       " \n",
       "        [[ 98,  70]],\n",
       " \n",
       "        [[ 99,  71]],\n",
       " \n",
       "        [[100,  71]],\n",
       " \n",
       "        [[ 99,  71]],\n",
       " \n",
       "        [[ 98,  70]]], dtype=int32), array([[[139,  65]],\n",
       " \n",
       "        [[140,  66]],\n",
       " \n",
       "        [[140,  67]],\n",
       " \n",
       "        [[140,  66]]], dtype=int32), array([[[101,  63]],\n",
       " \n",
       "        [[100,  64]],\n",
       " \n",
       "        [[ 99,  64]],\n",
       " \n",
       "        [[ 98,  65]],\n",
       " \n",
       "        [[ 98,  66]],\n",
       " \n",
       "        [[ 98,  65]],\n",
       " \n",
       "        [[ 99,  64]],\n",
       " \n",
       "        [[100,  64]]], dtype=int32), array([[[134,  61]],\n",
       " \n",
       "        [[135,  61]],\n",
       " \n",
       "        [[136,  62]],\n",
       " \n",
       "        [[137,  62]],\n",
       " \n",
       "        [[138,  63]],\n",
       " \n",
       "        [[137,  62]],\n",
       " \n",
       "        [[136,  62]],\n",
       " \n",
       "        [[135,  61]]], dtype=int32), array([[[104,  61]],\n",
       " \n",
       "        [[103,  62]],\n",
       " \n",
       "        [[104,  61]],\n",
       " \n",
       "        [[105,  61]]], dtype=int32)]"
      ]
     },
     "execution_count": 28,
     "metadata": {},
     "output_type": "execute_result"
    }
   ],
   "source": [
    "contours"
   ]
  },
  {
   "cell_type": "code",
   "execution_count": 75,
   "metadata": {
    "collapsed": false
   },
   "outputs": [],
   "source": [
    "#gray = cv2.cvtColor(img,cv2.COLOR_BGR2GRAY) \n",
    "resizedImg = img[:,:]\n",
    "resizedImg[resizedImg>(255*.3)] = 255\n",
    "resizedImg[resizedImg<(255*.3)] = 0\n",
    "\n",
    "#_,thresh = cv2.threshold(resizedImg,254,255,cv2.THRESH_BINARY_INV) \n",
    "#im2, contours, hierarchy = cv2.findContours(thresh,cv2.RETR_EXTERNAL,cv2.CHAIN_APPROX_NONE)"
   ]
  },
  {
   "cell_type": "code",
   "execution_count": 72,
   "metadata": {
    "collapsed": false
   },
   "outputs": [
    {
     "data": {
      "text/plain": [
       "<matplotlib.image.AxesImage at 0x116c6b080>"
      ]
     },
     "execution_count": 72,
     "metadata": {},
     "output_type": "execute_result"
    },
    {
     "data": {
      "image/png": "[encoded data removed]",
      "text/plain": [
       "<matplotlib.figure.Figure at 0x116b7b710>"
      ]
     },
     "metadata": {},
     "output_type": "display_data"
    }
   ],
   "source": [
    "plt.imshow(im2)"
   ]
  },
  {
   "cell_type": "code",
   "execution_count": 274,
   "metadata": {
    "collapsed": false
   },
   "outputs": [],
   "source": [
    "def findEdges(img,xStart):\n",
    "    started = False\n",
    "    leftX = 0\n",
    "    rightX = 0\n",
    "    for x in range(xStart,img.shape[1]):\n",
    "        if((np.sum(img[:,x]) != 0) and (started == False)):\n",
    "            #print('here')\n",
    "            leftX = x\n",
    "            started = True\n",
    "        if((np.sum(img[:,x]) == 0) and (started == True)):\n",
    "            rightX = x\n",
    "            break\n",
    "            \n",
    "    started = False\n",
    "    topY = 0\n",
    "    bottomY = 0\n",
    "#     if(rightX <1):\n",
    "#         return((0,0,0,0))\n",
    "    \n",
    "    for y in range(0,img.shape[0]):\n",
    "        if((np.sum(img[y,leftX:rightX+1]) != 0) and (started == False)):\n",
    "            #print('here')\n",
    "            topY = y\n",
    "            started = True\n",
    "        if((np.sum(img[y,leftX:rightX+1]) == 0) and (started == True)):\n",
    "            bottomY = y\n",
    "            break\n",
    "            \n",
    "    return((leftX,rightX, topY, bottomY))\n",
    "        \n",
    "            "
   ]
  },
  {
   "cell_type": "code",
   "execution_count": 278,
   "metadata": {
    "collapsed": false
   },
   "outputs": [
    {
     "data": {
      "text/plain": [
       "(93, 202, 50, 214)"
      ]
     },
     "execution_count": 278,
     "metadata": {},
     "output_type": "execute_result"
    }
   ],
   "source": [
    "findEdges(np.invert(img),0)"
   ]
  },
  {
   "cell_type": "code",
   "execution_count": 268,
   "metadata": {
    "collapsed": false
   },
   "outputs": [
    {
     "data": {
      "text/plain": [
       "<matplotlib.image.AxesImage at 0x11b344b38>"
      ]
     },
     "execution_count": 268,
     "metadata": {},
     "output_type": "execute_result"
    },
    {
     "data": {
      "image/png": "[encoded data removed]",
      "text/plain": [
       "<matplotlib.figure.Figure at 0x11b1c3e80>"
      ]
     },
     "metadata": {},
     "output_type": "display_data"
    }
   ],
   "source": [
    "plt.imshow(np.invert(img)[61:206,98:184])"
   ]
  },
  {
   "cell_type": "code",
   "execution_count": 279,
   "metadata": {
    "collapsed": false
   },
   "outputs": [
    {
     "data": {
      "text/plain": [
       "(325, 409, 55, 200)"
      ]
     },
     "execution_count": 279,
     "metadata": {},
     "output_type": "execute_result"
    }
   ],
   "source": [
    "findEdges(np.invert(img),202)"
   ]
  },
  {
   "cell_type": "code",
   "execution_count": 273,
   "metadata": {
    "collapsed": false
   },
   "outputs": [
    {
     "data": {
      "text/plain": [
       "700"
      ]
     },
     "execution_count": 273,
     "metadata": {},
     "output_type": "execute_result"
    }
   ],
   "source": [
    "img.shape[1]"
   ]
  },
  {
   "cell_type": "code",
   "execution_count": 280,
   "metadata": {
    "collapsed": false
   },
   "outputs": [
    {
     "data": {
      "text/plain": [
       "(548, 557, 72, 196)"
      ]
     },
     "execution_count": 280,
     "metadata": {},
     "output_type": "execute_result"
    }
   ],
   "source": [
    "findEdges(np.invert(img),409)"
   ]
  },
  {
   "cell_type": "code",
   "execution_count": 197,
   "metadata": {
    "collapsed": true
   },
   "outputs": [],
   "source": [
    "def breakDownToMultipleImages(img):\n",
    "    lstDigits = []\n",
    "    xStart = 0\n",
    "    \n",
    "    while(True):\n",
    "        edges = findEdges(img,xStart)\n",
    "        if np.sum(edges) < 1:\n",
    "            break\n",
    "        else:\n",
    "            leftX,rightX, topY, bottomY = edges\n",
    "            lstDigits.append(img[topY:bottomY, leftX:rightX])\n",
    "            xStart = rightX\n",
    "    \n",
    "    return(lstDigits)\n",
    "        "
   ]
  },
  {
   "cell_type": "code",
   "execution_count": 148,
   "metadata": {
    "collapsed": false
   },
   "outputs": [
    {
     "name": "stdout",
     "output_type": "stream",
     "text": [
      "(40, 53, 72, 182)\n",
      "(125, 226, 78, 184)\n",
      "(0, 0, 0, 0)\n"
     ]
    }
   ],
   "source": [
    "lst = getDigitImages(np.invert(img))"
   ]
  },
  {
   "cell_type": "code",
   "execution_count": 150,
   "metadata": {
    "collapsed": false
   },
   "outputs": [
    {
     "data": {
      "text/plain": [
       "<matplotlib.image.AxesImage at 0x1186d1128>"
      ]
     },
     "execution_count": 150,
     "metadata": {},
     "output_type": "execute_result"
    },
    {
     "data": {
      "image/png": "[encoded data removed]",
      "text/plain": [
       "<matplotlib.figure.Figure at 0x118562978>"
      ]
     },
     "metadata": {},
     "output_type": "display_data"
    }
   ],
   "source": [
    "plt.imshow(lst[0])"
   ]
  },
  {
   "cell_type": "code",
   "execution_count": 201,
   "metadata": {
    "collapsed": true
   },
   "outputs": [],
   "source": [
    "def addPadding(img):\n",
    "    j =np.max(img.shape) * 1.8\n",
    "    #print(j)\n",
    "    \n",
    "    paddingY = int((j - img.shape[0]) // 2)\n",
    "    \n",
    "    topBottomPadding = np.zeros((paddingY, img.shape[1]))\n",
    "    tempImg = np.concatenate((topBottomPadding, img, topBottomPadding),axis =0)\n",
    "    \n",
    "    paddingX = int((j - tempImg.shape[1]) // 2)\n",
    "    \n",
    "    leftRightPadding = np.zeros((tempImg.shape[0], paddingX))\n",
    "    \n",
    "    #print(leftRightPadding.shape)\n",
    "    \n",
    "    tempImg = np.concatenate((leftRightPadding, tempImg, leftRightPadding),axis =1)\n",
    "    \n",
    "    imgDim = np.min(tempImg.shape)\n",
    "    \n",
    "    tempImg = tempImg[:imgDim,:imgDim]\n",
    "    \n",
    "    return(tempImg)\n",
    "    "
   ]
  },
  {
   "cell_type": "code",
   "execution_count": 193,
   "metadata": {
    "collapsed": false
   },
   "outputs": [
    {
     "name": "stdout",
     "output_type": "stream",
     "text": [
      "198.0\n",
      "(198, 92)\n"
     ]
    },
    {
     "data": {
      "text/plain": [
       "<matplotlib.image.AxesImage at 0x118b2f7b8>"
      ]
     },
     "execution_count": 193,
     "metadata": {},
     "output_type": "execute_result"
    },
    {
     "data": {
      "image/png": "[encoded data removed]",
      "text/plain": [
       "<matplotlib.figure.Figure at 0x1183d9390>"
      ]
     },
     "metadata": {},
     "output_type": "display_data"
    }
   ],
   "source": [
    "plt.imshow(addPadding(lst[0]))"
   ]
  },
  {
   "cell_type": "code",
   "execution_count": 285,
   "metadata": {
    "collapsed": false
   },
   "outputs": [
    {
     "data": {
      "text/plain": [
       "array([[  0,   0,   0,   0,   0,   0,   0,   0,   0,   0,   0,   0,   0,\n",
       "          0,   0,   0,   0,   0,   0,   0,   0,   0,   0,   0,   0,   0,\n",
       "          0,   0],\n",
       "       [  0,   0,   0,   0,   0,   0,   0,   0,   0,   0,   0,   0,   0,\n",
       "          0,   0,   0,   0,   0,   0,   0,   0,   0,   0,   0,   0,   0,\n",
       "          0,   0],\n",
       "       [  0,   0,   0,   0,   0,   0,   0,   0,   0,   0,   0,   0,   0,\n",
       "          0,   0,   0,   0,   0,   0,   0,   0,   0,   0,   0,   0,   0,\n",
       "          0,   0],\n",
       "       [  0,   0,   0,   0,   0,   0,   0,   0,   0,   0,   0,   0,   0,\n",
       "          0,   0,   0,   0,   0,   0,   0,   0,   0,   0,   0,   0,   0,\n",
       "          0,   0],\n",
       "       [  0,   0,   0,   0,   0,   0,   0,   0,   0,   0,   0,   0,   0,\n",
       "          0,   0,   0,   0,   0,   0,   0,   0,   0,   0,   0,   0,   0,\n",
       "          0,   0],\n",
       "       [  0,   0,   0,   0,   0,   0,   0,   0,   0,   0,   0,   0,   0,\n",
       "          4,   6,   0,   0,   0,   0,   0,   0,   0,   0,   0,   0,   0,\n",
       "          0,   0],\n",
       "       [  0,   0,   0,   0,   0,   0,   0,   0,   0,   0,   0,   0,   0,\n",
       "         72, 115,   1,   0,   0,   0,   0,   0,   0,   0,   0,   0,   0,\n",
       "          0,   0],\n",
       "       [  0,   0,   0,   0,   0,   0,   0,   0,   0,   0,   0,   0,   0,\n",
       "         98, 157,   2,   0,   0,   0,   0,   0,   0,   0,   0,   0,   0,\n",
       "          0,   0],\n",
       "       [  0,   0,   0,   0,   0,   0,   0,   0,   0,   0,   0,   0,   0,\n",
       "         98, 157,   2,   0,   0,   0,   0,   0,   0,   0,   0,   0,   0,\n",
       "          0,   0],\n",
       "       [  0,   0,   0,   0,   0,   0,   0,   0,   0,   0,   0,   0,   0,\n",
       "         98, 157,   2,   0,   0,   0,   0,   0,   0,   0,   0,   0,   0,\n",
       "          0,   0],\n",
       "       [  0,   0,   0,   0,   0,   0,   0,   0,   0,   0,   0,   0,   0,\n",
       "         98, 157,   2,   0,   0,   0,   0,   0,   0,   0,   0,   0,   0,\n",
       "          0,   0],\n",
       "       [  0,   0,   0,   0,   0,   0,   0,   0,   0,   0,   0,   0,   0,\n",
       "         98, 157,   2,   0,   0,   0,   0,   0,   0,   0,   0,   0,   0,\n",
       "          0,   0],\n",
       "       [  0,   0,   0,   0,   0,   0,   0,   0,   0,   0,   0,   0,   0,\n",
       "         98, 157,   2,   0,   0,   0,   0,   0,   0,   0,   0,   0,   0,\n",
       "          0,   0],\n",
       "       [  0,   0,   0,   0,   0,   0,   0,   0,   0,   0,   0,   0,   0,\n",
       "         98, 157,   2,   0,   0,   0,   0,   0,   0,   0,   0,   0,   0,\n",
       "          0,   0],\n",
       "       [  0,   0,   0,   0,   0,   0,   0,   0,   0,   0,   0,   0,   0,\n",
       "         98, 157,   2,   0,   0,   0,   0,   0,   0,   0,   0,   0,   0,\n",
       "          0,   0],\n",
       "       [  0,   0,   0,   0,   0,   0,   0,   0,   0,   0,   0,   0,   0,\n",
       "         98, 157,   2,   0,   0,   0,   0,   0,   0,   0,   0,   0,   0,\n",
       "          0,   0],\n",
       "       [  0,   0,   0,   0,   0,   0,   0,   0,   0,   0,   0,   0,   0,\n",
       "         98, 157,   2,   0,   0,   0,   0,   0,   0,   0,   0,   0,   0,\n",
       "          0,   0],\n",
       "       [  0,   0,   0,   0,   0,   0,   0,   0,   0,   0,   0,   0,   0,\n",
       "         98, 157,   2,   0,   0,   0,   0,   0,   0,   0,   0,   0,   0,\n",
       "          0,   0],\n",
       "       [  0,   0,   0,   0,   0,   0,   0,   0,   0,   0,   0,   0,   0,\n",
       "         98, 157,   2,   0,   0,   0,   0,   0,   0,   0,   0,   0,   0,\n",
       "          0,   0],\n",
       "       [  0,   0,   0,   0,   0,   0,   0,   0,   0,   0,   0,   0,   0,\n",
       "         98, 157,   2,   0,   0,   0,   0,   0,   0,   0,   0,   0,   0,\n",
       "          0,   0],\n",
       "       [  0,   0,   0,   0,   0,   0,   0,   0,   0,   0,   0,   0,   0,\n",
       "         98, 157,   2,   0,   0,   0,   0,   0,   0,   0,   0,   0,   0,\n",
       "          0,   0],\n",
       "       [  0,   0,   0,   0,   0,   0,   0,   0,   0,   0,   0,   0,   0,\n",
       "         72, 116,   1,   0,   0,   0,   0,   0,   0,   0,   0,   0,   0,\n",
       "          0,   0],\n",
       "       [  0,   0,   0,   0,   0,   0,   0,   0,   0,   0,   0,   0,   0,\n",
       "          4,   6,   0,   0,   0,   0,   0,   0,   0,   0,   0,   0,   0,\n",
       "          0,   0],\n",
       "       [  0,   0,   0,   0,   0,   0,   0,   0,   0,   0,   0,   0,   0,\n",
       "          0,   0,   0,   0,   0,   0,   0,   0,   0,   0,   0,   0,   0,\n",
       "          0,   0],\n",
       "       [  0,   0,   0,   0,   0,   0,   0,   0,   0,   0,   0,   0,   0,\n",
       "          0,   0,   0,   0,   0,   0,   0,   0,   0,   0,   0,   0,   0,\n",
       "          0,   0],\n",
       "       [  0,   0,   0,   0,   0,   0,   0,   0,   0,   0,   0,   0,   0,\n",
       "          0,   0,   0,   0,   0,   0,   0,   0,   0,   0,   0,   0,   0,\n",
       "          0,   0],\n",
       "       [  0,   0,   0,   0,   0,   0,   0,   0,   0,   0,   0,   0,   0,\n",
       "          0,   0,   0,   0,   0,   0,   0,   0,   0,   0,   0,   0,   0,\n",
       "          0,   0],\n",
       "       [  0,   0,   0,   0,   0,   0,   0,   0,   0,   0,   0,   0,   0,\n",
       "          0,   0,   0,   0,   0,   0,   0,   0,   0,   0,   0,   0,   0,\n",
       "          0,   0]], dtype=uint8)"
      ]
     },
     "execution_count": 285,
     "metadata": {},
     "output_type": "execute_result"
    }
   ],
   "source": [
    "def getDigitImages(img):\n",
    "    imgs = breakDownToMultipleImages(img)\n",
    "    imgs2 = [ imresize(addPadding(im), (28,28)) for im in imgs]\n",
    "    return(imgs2)\n",
    "        \n",
    "lst  = getDigitImages(np.invert(img))\n",
    "\n",
    "#plt.imshow(lst[1], cmap='gray')\n",
    "#plt.imshow(lst[1])\n",
    "lst[2]"
   ]
  },
  {
   "cell_type": "code",
   "execution_count": 206,
   "metadata": {
    "collapsed": true
   },
   "outputs": [],
   "source": [
    "clf = joblib.load('model.pkl') "
   ]
  },
  {
   "cell_type": "code",
   "execution_count": 288,
   "metadata": {
    "collapsed": false
   },
   "outputs": [
    {
     "data": {
      "text/plain": [
       "array([ 3.])"
      ]
     },
     "execution_count": 288,
     "metadata": {},
     "output_type": "execute_result"
    }
   ],
   "source": [
    "t = lst[0]\n",
    "t[t>100] = 255\n",
    "t[t<=100] = 0\n",
    "\n",
    "clf.predict(t.reshape(1,-1))"
   ]
  },
  {
   "cell_type": "code",
   "execution_count": null,
   "metadata": {
    "collapsed": true
   },
   "outputs": [],
   "source": []
  }
 ],
 "metadata": {
  "kernelspec": {
   "display_name": "Python 3",
   "language": "python",
   "name": "python3"
  },
  "language_info": {
   "codemirror_mode": {
    "name": "ipython",
    "version": 3
   },
   "file_extension": ".py",
   "mimetype": "text/x-python",
   "name": "python",
   "nbconvert_exporter": "python",
   "pygments_lexer": "ipython3",
   "version": "3.6.0"
  }
 },
 "nbformat": 4,
 "nbformat_minor": 2
}
